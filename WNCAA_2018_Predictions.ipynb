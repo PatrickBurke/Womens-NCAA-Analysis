{
 "cells": [
  {
   "cell_type": "code",
   "execution_count": 460,
   "metadata": {
    "collapsed": true
   },
   "outputs": [],
   "source": [
    "import pandas as pd\n",
    "import math\n",
    "from sklearn import cross_validation, linear_model\n",
    "from sklearn.linear_model import LogisticRegression\n",
    "import csv\n",
    "import random\n",
    "import numpy as np\n",
    "import matplotlib as plt\n",
    "import seaborn as sns\n",
    "% matplotlib inline"
   ]
  },
  {
   "cell_type": "markdown",
   "metadata": {},
   "source": [
    "I used code adapted from this Kaggle user: https://www.kaggle.com/mineshjethva/2018-logistics-lb-public-1-5\n",
    "I added features based on spreads of assists, personal foals, and defensive rebounds.\n",
    "The model already incorporated seed differences and score spreads."
   ]
  },
  {
   "cell_type": "code",
   "execution_count": 461,
   "metadata": {},
   "outputs": [
    {
     "name": "stdout",
     "output_type": "stream",
     "text": [
      "(1344, 3)\n",
      "   Season Seed  TeamID\n",
      "0    1998  W01    3330\n",
      "1    1998  W02    3163\n",
      "2    1998  W03    3112\n",
      "3    1998  W04    3301\n",
      "4    1998  W05    3272\n",
      "(46342, 34)\n",
      "   Season  DayNum  WTeamID  WScore  LTeamID  LScore WLoc  NumOT  WFGM  WFGA  \\\n",
      "0    2010      11     3103      63     3237      49    H      0    23    54   \n",
      "1    2010      11     3104      73     3399      68    N      0    26    62   \n",
      "2    2010      11     3110      71     3224      59    A      0    29    62   \n",
      "3    2010      11     3111      63     3267      58    A      0    27    52   \n",
      "4    2010      11     3119      74     3447      70    H      1    30    74   \n",
      "\n",
      "  ...   LFGA3  LFTM  LFTA  LOR  LDR  LAst  LTO  LStl  LBlk  LPF  \n",
      "0 ...      13     6    10   11   27    11   23     7     6   19  \n",
      "1 ...      21    14    27   14   26     7   20     4     2   27  \n",
      "2 ...      14    19    23   17   23     8   15     6     0   15  \n",
      "3 ...      26    16    25   22   22    15   11    14     5   14  \n",
      "4 ...      17    11    21   21   32    12   14     4     2   14  \n",
      "\n",
      "[5 rows x 34 columns]\n"
     ]
    }
   ],
   "source": [
    "\n",
    "#the seed information\n",
    "df_seeds = pd.read_csv('WNCAATourneySeeds2018.csv')\n",
    "print(df_seeds.shape)\n",
    "print(df_seeds.head())\n",
    "#print(df_seeds.Season.value_counts())\n",
    "\n",
    "#tour information\n",
    "df_tour = pd.read_csv('WRegularSeasonDetailedResults.csv')\n",
    "print(df_tour.shape)\n",
    "print(df_tour.head())"
   ]
  },
  {
   "cell_type": "code",
   "execution_count": 462,
   "metadata": {},
   "outputs": [
    {
     "name": "stdout",
     "output_type": "stream",
     "text": [
      "(4398, 36)\n",
      "   Season  DayNum  WTeamID  WScore  LTeamID  LScore WLoc  NumOT  WFGM  WFGA  \\\n",
      "0    2010      11     3173      77     3277      74    H      0    26    65   \n",
      "1    2010      17     3323      68     3277      67    A      0    22    65   \n",
      "2    2010      34     3231      68     3277      63    A      0    19    60   \n",
      "3    2010      56     3458      62     3277      54    H      0    20    46   \n",
      "4    2010      68     3326      65     3277      62    A      0    18    52   \n",
      "\n",
      "   ...    LFTA  LOR  LDR  LAst  LTO  LStl  LBlk  LPF  WSeed  LSeed  \n",
      "0  ...      26   17   28    16   22     7     9   29    8.0      5  \n",
      "1  ...      22   14   31    13   21     6     9   22    2.0      5  \n",
      "2  ...      27   27   24    10   10     6    10   24    NaN      5  \n",
      "3  ...      17   10   20    11   26     7     3   21    7.0      5  \n",
      "4  ...      26   14   23     9   17     9     4   20    2.0      5  \n",
      "\n",
      "[5 rows x 36 columns]\n"
     ]
    }
   ],
   "source": [
    "df_seeds['seed_int'] = df_seeds['Seed'].apply( lambda x : int(x[1:3]) )\n",
    "\n",
    "df_winseeds = df_seeds.loc[:, ['TeamID', 'Season', 'seed_int']].rename(columns={'TeamID':'WTeamID', 'seed_int':'WSeed'})\n",
    "df_lossseeds = df_seeds.loc[:, ['TeamID', 'Season', 'seed_int']].rename(columns={'TeamID':'LTeamID', 'seed_int':'LSeed'})\n",
    "df_dummy = pd.merge(left=df_tour, right=df_winseeds, how='left', on=['Season', 'WTeamID'])\n",
    "df_concat = pd.merge(left=df_dummy, right=df_lossseeds, on=['Season', 'LTeamID'])\n",
    "print(df_concat.shape)\n",
    "print(df_concat.head())"
   ]
  },
  {
   "cell_type": "code",
   "execution_count": 463,
   "metadata": {},
   "outputs": [
    {
     "name": "stdout",
     "output_type": "stream",
     "text": [
      "(4398, 37)\n",
      "   Season  DayNum  WTeamID  WScore  LTeamID  LScore WLoc  NumOT  WFGM  WFGA  \\\n",
      "0    2010      11     3173      77     3277      74    H      0    26    65   \n",
      "1    2010      17     3323      68     3277      67    A      0    22    65   \n",
      "2    2010      34     3231      68     3277      63    A      0    19    60   \n",
      "3    2010      56     3458      62     3277      54    H      0    20    46   \n",
      "4    2010      68     3326      65     3277      62    A      0    18    52   \n",
      "\n",
      "     ...     LOR  LDR  LAst  LTO  LStl  LBlk  LPF  WSeed  LSeed  DiffSeed  \n",
      "0    ...      17   28    16   22     7     9   29    8.0      5         1  \n",
      "1    ...      14   31    13   21     6     9   22    2.0      5         1  \n",
      "2    ...      27   24    10   10     6    10   24    NaN      5         1  \n",
      "3    ...      10   20    11   26     7     3   21    7.0      5         1  \n",
      "4    ...      14   23     9   17     9     4   20    2.0      5         1  \n",
      "\n",
      "[5 rows x 37 columns]\n",
      "2011    501\n",
      "2014    499\n",
      "2017    499\n",
      "2010    497\n",
      "2013    491\n",
      "2012    491\n",
      "2018    477\n",
      "2015    475\n",
      "2016    468\n",
      "Name: Season, dtype: int64\n"
     ]
    }
   ],
   "source": [
    "df_concat['DiffSeed'] = df_concat[['LSeed', 'WSeed']].apply(lambda x : 0 if x[0] == x[1] else 1, axis = 1)\n",
    "print(df_concat.shape)\n",
    "print(df_concat.head())\n",
    "print(df_concat.Season.value_counts())"
   ]
  },
  {
   "cell_type": "code",
   "execution_count": 464,
   "metadata": {},
   "outputs": [
    {
     "name": "stdout",
     "output_type": "stream",
     "text": [
      "(10080, 2)\n",
      "               ID  Pred\n",
      "0  2014_3103_3107   0.5\n",
      "1  2014_3103_3113   0.5\n",
      "2  2014_3103_3119   0.5\n",
      "3  2014_3103_3124   0.5\n",
      "4  2014_3103_3140   0.5\n"
     ]
    }
   ],
   "source": [
    "df_sample_sub1 = pd.read_csv('WSampleSubmissionStage1.csv')\n",
    "\n",
    "#prepares sample submission\n",
    "df_sample_sub2 = pd.read_csv('WSampleSubmissionStage2.csv')\n",
    "\n",
    "df_sample_sub=pd.concat([df_sample_sub1, df_sample_sub2])\n",
    "\n",
    "print(df_sample_sub.shape)\n",
    "print(df_sample_sub.head())"
   ]
  },
  {
   "cell_type": "code",
   "execution_count": 465,
   "metadata": {},
   "outputs": [
    {
     "name": "stdout",
     "output_type": "stream",
     "text": [
      "(10080, 5)\n",
      "               ID  Pred  Season  TeamID1  TeamID2\n",
      "0  2014_3103_3107   0.5    2014     3103     3107\n",
      "1  2014_3103_3113   0.5    2014     3103     3113\n",
      "2  2014_3103_3119   0.5    2014     3103     3119\n",
      "3  2014_3103_3124   0.5    2014     3103     3124\n",
      "4  2014_3103_3140   0.5    2014     3103     3140\n"
     ]
    }
   ],
   "source": [
    "df_sample_sub['Season'] = df_sample_sub['ID'].apply(lambda x : int(x.split('_')[0]) )\n",
    "df_sample_sub['TeamID1'] = df_sample_sub['ID'].apply(lambda x : int(x.split('_')[1]) )\n",
    "df_sample_sub['TeamID2'] = df_sample_sub['ID'].apply(lambda x : int(x.split('_')[2]) )\n",
    "print(df_sample_sub.shape)\n",
    "print(df_sample_sub.head())"
   ]
  },
  {
   "cell_type": "code",
   "execution_count": 466,
   "metadata": {},
   "outputs": [
    {
     "name": "stdout",
     "output_type": "stream",
     "text": [
      "(8796, 27)\n",
      "   DayNum  DiffSeed  NumOT  Result  Season  Team1_Ast  Team1_DR  Team1_PF  \\\n",
      "0      11         1      0     1.0    2010         14        31        22   \n",
      "1      17         1      0     1.0    2010         12        29        20   \n",
      "2      34         1      0     1.0    2010          6        26        22   \n",
      "3      56         1      0     1.0    2010         12        16        20   \n",
      "4      68         1      0     1.0    2010          8        27        20   \n",
      "\n",
      "   Team1_Score  Team2_Ast    ...     Score_Pct  DR_Ratio  DR_Total    DR_Pct  \\\n",
      "0           77         16    ...      0.509934  1.107143        59  0.525424   \n",
      "1           68         13    ...      0.503704  0.935484        60  0.483333   \n",
      "2           68         10    ...      0.519084  1.083333        50  0.520000   \n",
      "3           62         11    ...      0.534483  0.800000        36  0.444444   \n",
      "4           65          9    ...      0.511811  1.173913        50  0.540000   \n",
      "\n",
      "   Ast_Ratio  Ast_Total   Ast_Pct  PF_Ratio  PF_Total    PF_Pct  \n",
      "0   0.875000         30  0.466667  0.758621        51  0.431373  \n",
      "1   0.923077         25  0.480000  0.909091        42  0.476190  \n",
      "2   0.600000         16  0.375000  0.916667        46  0.478261  \n",
      "3   1.090909         23  0.521739  0.952381        41  0.487805  \n",
      "4   0.888889         17  0.470588  1.000000        40  0.500000  \n",
      "\n",
      "[5 rows x 27 columns]\n"
     ]
    }
   ],
   "source": [
    "winners = df_concat.rename( columns = { 'WTeamID' : 'TeamID1', \n",
    "                                                       'LTeamID' : 'TeamID2',\n",
    "                                                      'WScore' : 'Team1_Score',\n",
    "                                                      'LScore' : 'Team2_Score',\n",
    "                                                      'WAst': 'Team1_Ast',\n",
    "                                                      'LAst': 'Team2_Ast',\n",
    "                                                      'WDR': 'Team1_DR',\n",
    "                                                      'LDR': 'Team2_DR',\n",
    "                                                      'WPF': 'Team1_PF',\n",
    "                                                      'LPF': 'Team2_PF'}).drop(['WSeed', 'LSeed', 'WLoc', 'LBlk', 'LFGA', 'LFGA3', 'LFGM', 'LFGM3',\n",
    "       'LFTA', 'LFTM', 'LOR', 'LStl', 'LTO', 'WBlk', 'WFGA', 'WFGA3', 'WFGM', 'WFGM3',\n",
    "       'WFTA', 'WFTM', 'WOR', 'WStl', 'WTO'], axis = 1)\n",
    "winners['Result'] = 1.0\n",
    "\n",
    "losers = df_concat.rename( columns = { 'WTeamID' : 'TeamID2', \n",
    "                                                       'LTeamID' : 'TeamID1',\n",
    "                                                      'WScore' : 'Team2_Score',\n",
    "                                                      'LScore' : 'Team1_Score',\n",
    "                                                    'WAst': 'Team2_Ast',\n",
    "                                                      'LAst': 'Team1_Ast',\n",
    "                                                      'WDR': 'Team2_DR',\n",
    "                                                      'LDR': 'Team1_DR',\n",
    "                                                     'WPF': 'Team2_PF',\n",
    "                                                      'LPF': 'Team1_PF',}).drop(['WSeed', 'LSeed', 'WLoc', 'LBlk', 'LFGA', 'LFGA3', 'LFGM', 'LFGM3',\n",
    "       'LFTA', 'LFTM', 'LOR', 'LStl', 'LTO', 'WBlk', 'WFGA', 'WFGA3', 'WFGM', 'WFGM3',\n",
    "       'WFTA', 'WFTM', 'WOR', 'WStl', 'WTO'], axis = 1)\n",
    "\n",
    "losers['Result'] = 0.0\n",
    "\n",
    "train = pd.concat( [winners, losers], axis = 0).reset_index(drop = True)\n",
    "\n",
    "train['Score_Ratio'] = train['Team1_Score'] / train['Team2_Score']\n",
    "train['Score_Total'] = train['Team1_Score'] + train['Team2_Score']\n",
    "train['Score_Pct'] = train['Team1_Score'] / train['Score_Total']\n",
    "\n",
    "train['DR_Ratio'] = train['Team1_DR'] / train['Team2_DR']\n",
    "train['DR_Total'] = train['Team1_DR'] + train['Team2_DR']\n",
    "train['DR_Pct'] = train['Team1_DR'] / train['DR_Total']\n",
    "\n",
    "train['Ast_Ratio'] = train['Team1_Ast'] / train['Team2_Ast']\n",
    "train['Ast_Total'] = train['Team1_Ast'] + train['Team2_Ast']\n",
    "train['Ast_Pct'] = train['Team1_Ast'] / train['Ast_Total']\n",
    "\n",
    "train['PF_Ratio'] = train['Team1_PF'] / train['Team2_PF']\n",
    "train['PF_Total'] = train['Team1_PF'] + train['Team2_PF']\n",
    "train['PF_Pct'] = train['Team1_PF'] / train['PF_Total']\n",
    "\n",
    "print(train.shape)\n",
    "print(train.head())"
   ]
  },
  {
   "cell_type": "code",
   "execution_count": 467,
   "metadata": {},
   "outputs": [
    {
     "data": {
      "text/plain": [
       "Index(['DayNum', 'DiffSeed', 'NumOT', 'Result', 'Season', 'Team1_Ast',\n",
       "       'Team1_DR', 'Team1_PF', 'Team1_Score', 'Team2_Ast', 'Team2_DR',\n",
       "       'Team2_PF', 'Team2_Score', 'TeamID1', 'TeamID2', 'Score_Ratio',\n",
       "       'Score_Total', 'Score_Pct', 'DR_Ratio', 'DR_Total', 'DR_Pct',\n",
       "       'Ast_Ratio', 'Ast_Total', 'Ast_Pct', 'PF_Ratio', 'PF_Total', 'PF_Pct'],\n",
       "      dtype='object')"
      ]
     },
     "execution_count": 467,
     "metadata": {},
     "output_type": "execute_result"
    }
   ],
   "source": [
    "train.columns"
   ]
  },
  {
   "cell_type": "code",
   "execution_count": 468,
   "metadata": {},
   "outputs": [
    {
     "data": {
      "text/plain": [
       "DayNum         0\n",
       "DiffSeed       0\n",
       "NumOT          0\n",
       "Result         0\n",
       "Season         0\n",
       "Team1_Ast      0\n",
       "Team1_DR       0\n",
       "Team1_PF       0\n",
       "Team1_Score    0\n",
       "Team2_Ast      0\n",
       "Team2_DR       0\n",
       "Team2_PF       0\n",
       "Team2_Score    0\n",
       "TeamID1        0\n",
       "TeamID2        0\n",
       "Score_Ratio    0\n",
       "Score_Total    0\n",
       "Score_Pct      0\n",
       "DR_Ratio       0\n",
       "DR_Total       0\n",
       "DR_Pct         0\n",
       "Ast_Ratio      0\n",
       "Ast_Total      0\n",
       "Ast_Pct        0\n",
       "PF_Ratio       0\n",
       "PF_Total       0\n",
       "PF_Pct         0\n",
       "dtype: int64"
      ]
     },
     "execution_count": 468,
     "metadata": {},
     "output_type": "execute_result"
    }
   ],
   "source": [
    "train.isnull().sum()"
   ]
  },
  {
   "cell_type": "code",
   "execution_count": 469,
   "metadata": {},
   "outputs": [
    {
     "data": {
      "text/plain": [
       "count    8796.000000\n",
       "mean        1.026322\n",
       "std         0.241386\n",
       "min         0.242991\n",
       "25%         0.867647\n",
       "50%         1.000049\n",
       "75%         1.152542\n",
       "max         4.115385\n",
       "Name: Score_Ratio, dtype: float64"
      ]
     },
     "execution_count": 469,
     "metadata": {},
     "output_type": "execute_result"
    }
   ],
   "source": [
    "train.Score_Ratio.describe()"
   ]
  },
  {
   "cell_type": "code",
   "execution_count": 470,
   "metadata": {
    "collapsed": true
   },
   "outputs": [],
   "source": [
    "years = [2014, 2015, 2016, 2017,2018]"
   ]
  },
  {
   "cell_type": "code",
   "execution_count": 471,
   "metadata": {
    "collapsed": true
   },
   "outputs": [],
   "source": [
    "train_test_inner = pd.merge( train.loc[ train['Season'].isin(years), : ].reset_index(drop = True), \n",
    "         df_sample_sub.drop(['ID', 'Pred'], axis = 1), \n",
    "         on = ['Season', 'TeamID1', 'TeamID2'], how = 'inner' )"
   ]
  },
  {
   "cell_type": "code",
   "execution_count": 472,
   "metadata": {},
   "outputs": [
    {
     "data": {
      "text/plain": [
       "DayNum         0\n",
       "DiffSeed       0\n",
       "NumOT          0\n",
       "Result         0\n",
       "Season         0\n",
       "Team1_Ast      0\n",
       "Team1_DR       0\n",
       "Team1_PF       0\n",
       "Team1_Score    0\n",
       "Team2_Ast      0\n",
       "Team2_DR       0\n",
       "Team2_PF       0\n",
       "Team2_Score    0\n",
       "TeamID1        0\n",
       "TeamID2        0\n",
       "Score_Ratio    0\n",
       "Score_Total    0\n",
       "Score_Pct      0\n",
       "DR_Ratio       0\n",
       "DR_Total       0\n",
       "DR_Pct         0\n",
       "Ast_Ratio      0\n",
       "Ast_Total      0\n",
       "Ast_Pct        0\n",
       "PF_Ratio       0\n",
       "PF_Total       0\n",
       "PF_Pct         0\n",
       "dtype: int64"
      ]
     },
     "execution_count": 472,
     "metadata": {},
     "output_type": "execute_result"
    }
   ],
   "source": [
    "train_test_inner.isnull().sum()"
   ]
  },
  {
   "cell_type": "code",
   "execution_count": 473,
   "metadata": {},
   "outputs": [
    {
     "data": {
      "text/plain": [
       "(1380, 27)"
      ]
     },
     "execution_count": 473,
     "metadata": {},
     "output_type": "execute_result"
    }
   ],
   "source": [
    "train_test_inner.head()\n",
    "train_test_inner.shape"
   ]
  },
  {
   "cell_type": "code",
   "execution_count": 474,
   "metadata": {},
   "outputs": [
    {
     "data": {
      "text/plain": [
       "Index(['DayNum', 'DiffSeed', 'NumOT', 'Result', 'Season', 'Team1_Ast',\n",
       "       'Team1_DR', 'Team1_PF', 'Team1_Score', 'Team2_Ast', 'Team2_DR',\n",
       "       'Team2_PF', 'Team2_Score', 'TeamID1', 'TeamID2', 'Score_Ratio',\n",
       "       'Score_Total', 'Score_Pct', 'DR_Ratio', 'DR_Total', 'DR_Pct',\n",
       "       'Ast_Ratio', 'Ast_Total', 'Ast_Pct', 'PF_Ratio', 'PF_Total', 'PF_Pct'],\n",
       "      dtype='object')"
      ]
     },
     "execution_count": 474,
     "metadata": {},
     "output_type": "execute_result"
    }
   ],
   "source": [
    "train_test_inner.columns"
   ]
  },
  {
   "cell_type": "code",
   "execution_count": 475,
   "metadata": {
    "scrolled": true
   },
   "outputs": [
    {
     "data": {
      "text/html": [
       "<div>\n",
       "<style>\n",
       "    .dataframe thead tr:only-child th {\n",
       "        text-align: right;\n",
       "    }\n",
       "\n",
       "    .dataframe thead th {\n",
       "        text-align: left;\n",
       "    }\n",
       "\n",
       "    .dataframe tbody tr th {\n",
       "        vertical-align: top;\n",
       "    }\n",
       "</style>\n",
       "<table border=\"1\" class=\"dataframe\">\n",
       "  <thead>\n",
       "    <tr style=\"text-align: right;\">\n",
       "      <th></th>\n",
       "      <th>Season</th>\n",
       "      <th>TeamID1</th>\n",
       "      <th>NumOT1</th>\n",
       "      <th>TeamID2</th>\n",
       "      <th>NumOT2</th>\n",
       "      <th>NumOT</th>\n",
       "    </tr>\n",
       "  </thead>\n",
       "  <tbody>\n",
       "    <tr>\n",
       "      <th>0</th>\n",
       "      <td>2014</td>\n",
       "      <td>3103</td>\n",
       "      <td>0.0</td>\n",
       "      <td>3143</td>\n",
       "      <td>0.0</td>\n",
       "      <td>0</td>\n",
       "    </tr>\n",
       "    <tr>\n",
       "      <th>1</th>\n",
       "      <td>2014</td>\n",
       "      <td>3103</td>\n",
       "      <td>0.0</td>\n",
       "      <td>3163</td>\n",
       "      <td>0.0</td>\n",
       "      <td>0</td>\n",
       "    </tr>\n",
       "    <tr>\n",
       "      <th>2</th>\n",
       "      <td>2014</td>\n",
       "      <td>3103</td>\n",
       "      <td>0.0</td>\n",
       "      <td>3169</td>\n",
       "      <td>0.0</td>\n",
       "      <td>0</td>\n",
       "    </tr>\n",
       "    <tr>\n",
       "      <th>3</th>\n",
       "      <td>2014</td>\n",
       "      <td>3103</td>\n",
       "      <td>0.0</td>\n",
       "      <td>3173</td>\n",
       "      <td>0.0</td>\n",
       "      <td>0</td>\n",
       "    </tr>\n",
       "    <tr>\n",
       "      <th>4</th>\n",
       "      <td>2014</td>\n",
       "      <td>3103</td>\n",
       "      <td>0.0</td>\n",
       "      <td>3181</td>\n",
       "      <td>0.0</td>\n",
       "      <td>0</td>\n",
       "    </tr>\n",
       "  </tbody>\n",
       "</table>\n",
       "</div>"
      ],
      "text/plain": [
       "   Season  TeamID1  NumOT1  TeamID2  NumOT2  NumOT\n",
       "0    2014     3103     0.0     3143     0.0      0\n",
       "1    2014     3103     0.0     3163     0.0      0\n",
       "2    2014     3103     0.0     3169     0.0      0\n",
       "3    2014     3103     0.0     3173     0.0      0\n",
       "4    2014     3103     0.0     3181     0.0      0"
      ]
     },
     "execution_count": 475,
     "metadata": {},
     "output_type": "execute_result"
    }
   ],
   "source": [
    "#From the inner join, we will create data per team id to estimate the parameters we are missing that are independent of the year. Essentially, we are trying to estimate the average behavior of the team across the year.\n",
    "\n",
    "team1d_num_ot = train_test_inner.groupby(['Season', 'TeamID1'])['NumOT'].median().reset_index()\\\n",
    ".set_index('Season').rename(columns = {'NumOT' : 'NumOT1'})\n",
    "team2d_num_ot = train_test_inner.groupby(['Season', 'TeamID2'])['NumOT'].median().reset_index()\\\n",
    ".set_index('Season').rename(columns = {'NumOT' : 'NumOT2'})\n",
    "\n",
    "num_ot = team1d_num_ot.join(team2d_num_ot).reset_index()\n",
    "\n",
    "#sum the number of ot calls and subtract by one to prevent overcounting\n",
    "num_ot['NumOT'] = num_ot[['NumOT1', 'NumOT2']].apply(lambda x : round( x.sum() ), axis = 1 )\n",
    "\n",
    "num_ot.head()"
   ]
  },
  {
   "cell_type": "code",
   "execution_count": 476,
   "metadata": {
    "collapsed": true
   },
   "outputs": [],
   "source": [
    "#Here we look at the comparable statistics. For the TeamID2 column, we would consider the inverse of the ratio, and 1 minus the score attempt percentage.\n",
    "\n",
    "def geo_mean( x ):\n",
    "    return np.exp( np.mean(np.log(x)) )\n",
    "\n",
    "def harm_mean( x ):\n",
    "    return np.mean( x ** -1.0 ) ** -1.0\n",
    "\n",
    "team1d_score_spread = train_test_inner.groupby(['Season', 'TeamID1'])[['Score_Ratio', 'Score_Pct']]\\\n",
    ".agg({ 'Score_Ratio': geo_mean, 'Score_Pct' : harm_mean}).reset_index()\\\n",
    ".set_index('Season').rename(columns = {'Score_Ratio' : 'Score_Ratio1', 'Score_Pct' : 'Score_Pct1'})\n",
    "\n",
    "team2d_score_spread = train_test_inner.groupby(['Season', 'TeamID2'])[['Score_Ratio', 'Score_Pct']]\\\n",
    ".agg({ 'Score_Ratio': geo_mean, 'Score_Pct' : harm_mean}).reset_index()\\\n",
    ".set_index('Season').rename(columns = {'Score_Ratio' : 'Score_Ratio2', 'Score_Pct' : 'Score_Pct2'})\n",
    "\n",
    "\n",
    "score_spread = team1d_score_spread.join(team2d_score_spread).reset_index()\n",
    "\n",
    "#geometric mean of score ratio of team 1 and inverse of team 2\n",
    "score_spread['Score_Ratio'] = score_spread[['Score_Ratio1', 'Score_Ratio2']].apply(lambda x : ( x[0] * ( x[1] ** -1.0) ), axis = 1 ) ** 0.5\n",
    "\n",
    "#harmonic mean of score pct\n",
    "score_spread['Score_Pct'] = score_spread[['Score_Pct1', 'Score_Pct2']].apply(lambda x : 0.5*( x[0] ** -1.0 ) + 0.5*( 1.0 - x[1] ) ** -1.0, axis = 1 ) ** -1.0\n"
   ]
  },
  {
   "cell_type": "code",
   "execution_count": 477,
   "metadata": {
    "collapsed": true
   },
   "outputs": [],
   "source": [
    "team1d_ast_spread = train_test_inner.groupby(['Season', 'TeamID1'])[['Ast_Ratio', 'Ast_Pct']]\\\n",
    ".agg({ 'Ast_Ratio': geo_mean, 'Ast_Pct' : harm_mean}).reset_index()\\\n",
    ".set_index('Season').rename(columns = {'Ast_Ratio' : 'Ast_Ratio1', 'Ast_Pct' : 'Ast_Pct1'})\n",
    "\n",
    "team2d_ast_spread = train_test_inner.groupby(['Season', 'TeamID2'])[['Ast_Ratio', 'Ast_Pct']]\\\n",
    ".agg({ 'Ast_Ratio': geo_mean, 'Ast_Pct' : harm_mean}).reset_index()\\\n",
    ".set_index('Season').rename(columns = {'Ast_Ratio' : 'Ast_Ratio2', 'Ast_Pct' : 'Ast_Pct2'})\n",
    "\n",
    "\n",
    "ast_spread = team1d_ast_spread.join(team2d_ast_spread).reset_index()\n",
    "\n",
    "#geometric mean of score ratio of team 1 and inverse of team 2\n",
    "score_spread['Ast_Ratio'] = ast_spread[['Ast_Ratio1', 'Ast_Ratio2']].apply(lambda x : ( x[0] * ( x[1] ** -1.0) ), axis = 1 ) ** 0.5\n",
    "\n",
    "#harmonic mean of score pct\n",
    "score_spread['Ast_Pct'] = ast_spread[['Ast_Pct1', 'Ast_Pct2']].apply(lambda x : 0.5*( x[0] ** -1.0 ) + 0.5*( 1.0 - x[1] ) ** -1.0, axis = 1 ) ** -1.0\n",
    "\n",
    "\n"
   ]
  },
  {
   "cell_type": "code",
   "execution_count": 478,
   "metadata": {
    "collapsed": true
   },
   "outputs": [],
   "source": [
    "team1d_DR_spread = train_test_inner.groupby(['Season', 'TeamID1'])[['DR_Ratio', 'DR_Pct']]\\\n",
    ".agg({ 'DR_Ratio': geo_mean, 'DR_Pct' : harm_mean}).reset_index()\\\n",
    ".set_index('Season').rename(columns = {'DR_Ratio' : 'DR_Ratio1', 'DR_Pct' : 'DR_Pct1'})\n",
    "\n",
    "team2d_DR_spread = train_test_inner.groupby(['Season', 'TeamID2'])[['DR_Ratio', 'DR_Pct']]\\\n",
    ".agg({ 'DR_Ratio': geo_mean, 'DR_Pct' : harm_mean}).reset_index()\\\n",
    ".set_index('Season').rename(columns = {'DR_Ratio' : 'DR_Ratio2', 'DR_Pct' : 'DR_Pct2'})\n",
    "\n",
    "\n",
    "DR_spread = team1d_DR_spread.join(team2d_DR_spread).reset_index()\n",
    "\n",
    "#geometric mean of score ratio of team 1 and inverse of team 2\n",
    "score_spread['DR_Ratio'] = DR_spread[['DR_Ratio1', 'DR_Ratio2']].apply(lambda x : ( x[0] * ( x[1] ** -1.0) ), axis = 1 ) ** 0.5\n",
    "#harmonic mean of score pct\n",
    "score_spread['DR_Pct'] = DR_spread[['DR_Pct1', 'DR_Pct2']].apply(lambda x : 0.5*( x[0] ** -1.0 ) + 0.5*( 1.0 - x[1] ) ** -1.0, axis = 1 ) ** -1.0\n"
   ]
  },
  {
   "cell_type": "code",
   "execution_count": 479,
   "metadata": {
    "collapsed": true
   },
   "outputs": [],
   "source": [
    "team1d_PF_spread = train_test_inner.groupby(['Season', 'TeamID1'])[['PF_Ratio', 'PF_Pct']]\\\n",
    ".agg({ 'PF_Ratio': geo_mean, 'PF_Pct' : harm_mean}).reset_index()\\\n",
    ".set_index('Season').rename(columns = {'PF_Ratio' : 'PF_Ratio1', 'PF_Pct' : 'PF_Pct1'})\n",
    "\n",
    "team2d_PF_spread = train_test_inner.groupby(['Season', 'TeamID2'])[['PF_Ratio', 'PF_Pct']]\\\n",
    ".agg({ 'PF_Ratio': geo_mean, 'PF_Pct' : harm_mean}).reset_index()\\\n",
    ".set_index('Season').rename(columns = {'PF_Ratio' : 'PF_Ratio2', 'PF_Pct' : 'PF_Pct2'})\n",
    "\n",
    "\n",
    "PF_spread = team1d_PF_spread.join(team2d_PF_spread).reset_index()\n",
    "\n",
    "#geometric mean of score ratio of team 1 and inverse of team 2\n",
    "score_spread['PF_Ratio'] = PF_spread[['PF_Ratio1', 'PF_Ratio2']].apply(lambda x : ( x[0] * ( x[1] ** -1.0) ), axis = 1 ) ** 0.5\n",
    "\n",
    "#harmonic mean of score pct\n",
    "score_spread['PF_Pct'] = PF_spread[['PF_Pct1', 'PF_Pct2']].apply(lambda x : 0.5*( x[0] ** -1.0 ) + 0.5*( 1.0 - x[1] ) ** -1.0, axis = 1 ) ** -1.0\n",
    "\n",
    "\n"
   ]
  },
  {
   "cell_type": "code",
   "execution_count": 480,
   "metadata": {},
   "outputs": [
    {
     "data": {
      "text/plain": [
       "Season          0\n",
       "TeamID1         0\n",
       "Score_Ratio1    0\n",
       "Score_Pct1      0\n",
       "TeamID2         0\n",
       "Score_Ratio2    0\n",
       "Score_Pct2      0\n",
       "Score_Ratio     0\n",
       "Score_Pct       0\n",
       "Ast_Ratio       0\n",
       "Ast_Pct         0\n",
       "DR_Ratio        0\n",
       "DR_Pct          0\n",
       "PF_Ratio        0\n",
       "PF_Pct          0\n",
       "dtype: int64"
      ]
     },
     "execution_count": 480,
     "metadata": {},
     "output_type": "execute_result"
    }
   ],
   "source": [
    "score_spread.isnull().sum()"
   ]
  },
  {
   "cell_type": "code",
   "execution_count": 481,
   "metadata": {},
   "outputs": [
    {
     "data": {
      "text/plain": [
       "Index(['DayNum', 'DiffSeed', 'NumOT', 'Result', 'Season', 'Team1_Ast',\n",
       "       'Team1_DR', 'Team1_PF', 'Team1_Score', 'Team2_Ast', 'Team2_DR',\n",
       "       'Team2_PF', 'Team2_Score', 'TeamID1', 'TeamID2', 'Score_Ratio',\n",
       "       'Score_Total', 'Score_Pct', 'DR_Ratio', 'DR_Total', 'DR_Pct',\n",
       "       'Ast_Ratio', 'Ast_Total', 'Ast_Pct', 'PF_Ratio', 'PF_Total', 'PF_Pct'],\n",
       "      dtype='object')"
      ]
     },
     "execution_count": 481,
     "metadata": {},
     "output_type": "execute_result"
    }
   ],
   "source": [
    "train_test_inner.columns"
   ]
  },
  {
   "cell_type": "code",
   "execution_count": 482,
   "metadata": {},
   "outputs": [
    {
     "data": {
      "text/plain": [
       "Season         0\n",
       "NumOT          0\n",
       "Score_Ratio    0\n",
       "Score_Pct      0\n",
       "Ast_Ratio      0\n",
       "Ast_Pct        0\n",
       "DR_Ratio       0\n",
       "DR_Pct         0\n",
       "PF_Ratio       0\n",
       "PF_Pct         0\n",
       "dtype: int64"
      ]
     },
     "execution_count": 482,
     "metadata": {},
     "output_type": "execute_result"
    }
   ],
   "source": [
    "X_train = train_test_inner.loc[:, ['Season', 'NumOT', 'Score_Ratio', 'Score_Pct', 'Ast_Ratio',\n",
    "       'Ast_Pct', 'DR_Ratio', 'DR_Pct', 'PF_Ratio', 'PF_Pct']] \n",
    "train_labels = train_test_inner['Result']\n",
    "X_train.isnull().sum()"
   ]
  },
  {
   "cell_type": "code",
   "execution_count": 483,
   "metadata": {
    "collapsed": true
   },
   "outputs": [],
   "source": [
    "train_test_outer = pd.merge( train.loc[ train['Season'].isin(years), : ].reset_index(drop = True), \n",
    "         df_sample_sub.drop(['ID', 'Pred'], axis = 1), \n",
    "         on = ['Season', 'TeamID1', 'TeamID2'], how = 'outer' )"
   ]
  },
  {
   "cell_type": "code",
   "execution_count": 484,
   "metadata": {},
   "outputs": [
    {
     "data": {
      "text/plain": [
       "DayNum         9043\n",
       "DiffSeed       9043\n",
       "NumOT          9043\n",
       "Result         9043\n",
       "Season            0\n",
       "Team1_Ast      9043\n",
       "Team1_DR       9043\n",
       "Team1_PF       9043\n",
       "Team1_Score    9043\n",
       "Team2_Ast      9043\n",
       "Team2_DR       9043\n",
       "Team2_PF       9043\n",
       "Team2_Score    9043\n",
       "TeamID1           0\n",
       "TeamID2           0\n",
       "Score_Ratio    9043\n",
       "Score_Total    9043\n",
       "Score_Pct      9043\n",
       "DR_Ratio       9043\n",
       "DR_Total       9043\n",
       "DR_Pct         9043\n",
       "Ast_Ratio      9043\n",
       "Ast_Total      9043\n",
       "Ast_Pct        9043\n",
       "PF_Ratio       9043\n",
       "PF_Total       9043\n",
       "PF_Pct         9043\n",
       "dtype: int64"
      ]
     },
     "execution_count": 484,
     "metadata": {},
     "output_type": "execute_result"
    }
   ],
   "source": [
    "train_test_outer.isnull().sum()"
   ]
  },
  {
   "cell_type": "code",
   "execution_count": 485,
   "metadata": {
    "collapsed": true
   },
   "outputs": [],
   "source": [
    "train_test_outer = train_test_outer.loc[ train_test_outer['Result'].isnull(), \n",
    "                                        ['TeamID1', 'TeamID2', 'Season']]"
   ]
  },
  {
   "cell_type": "code",
   "execution_count": 486,
   "metadata": {},
   "outputs": [
    {
     "data": {
      "text/plain": [
       "TeamID1    0\n",
       "TeamID2    0\n",
       "Season     0\n",
       "dtype: int64"
      ]
     },
     "execution_count": 486,
     "metadata": {},
     "output_type": "execute_result"
    }
   ],
   "source": [
    "train_test_outer.isnull().sum()"
   ]
  },
  {
   "cell_type": "code",
   "execution_count": 487,
   "metadata": {
    "collapsed": true
   },
   "outputs": [],
   "source": [
    "train_test_missing = pd.merge( pd.merge(score_spread.loc[:, ['TeamID1', 'TeamID2', 'Season', 'Score_Ratio', 'Score_Pct', 'Ast_Ratio',\n",
    "       'Ast_Pct', 'DR_Ratio', 'DR_Pct', 'PF_Ratio', 'PF_Pct']], \n",
    "                   train_test_outer, on = ['TeamID1', 'TeamID2', 'Season']),\n",
    "         num_ot.loc[:, ['TeamID1', 'TeamID2', 'Season', 'NumOT']],\n",
    "         on = ['TeamID1', 'TeamID2', 'Season'])"
   ]
  },
  {
   "cell_type": "code",
   "execution_count": 488,
   "metadata": {},
   "outputs": [
    {
     "data": {
      "text/plain": [
       "TeamID1        0\n",
       "TeamID2        0\n",
       "Season         0\n",
       "Score_Ratio    0\n",
       "Score_Pct      0\n",
       "Ast_Ratio      0\n",
       "Ast_Pct        0\n",
       "DR_Ratio       0\n",
       "DR_Pct         0\n",
       "PF_Ratio       0\n",
       "PF_Pct         0\n",
       "NumOT          0\n",
       "dtype: int64"
      ]
     },
     "execution_count": 488,
     "metadata": {},
     "output_type": "execute_result"
    }
   ],
   "source": [
    "train_test_missing.isnull().sum()"
   ]
  },
  {
   "cell_type": "code",
   "execution_count": 489,
   "metadata": {},
   "outputs": [
    {
     "data": {
      "text/html": [
       "<div>\n",
       "<style>\n",
       "    .dataframe thead tr:only-child th {\n",
       "        text-align: right;\n",
       "    }\n",
       "\n",
       "    .dataframe thead th {\n",
       "        text-align: left;\n",
       "    }\n",
       "\n",
       "    .dataframe tbody tr th {\n",
       "        vertical-align: top;\n",
       "    }\n",
       "</style>\n",
       "<table border=\"1\" class=\"dataframe\">\n",
       "  <thead>\n",
       "    <tr style=\"text-align: right;\">\n",
       "      <th></th>\n",
       "      <th>TeamID1</th>\n",
       "      <th>TeamID2</th>\n",
       "      <th>Season</th>\n",
       "      <th>Score_Ratio</th>\n",
       "      <th>Score_Pct</th>\n",
       "      <th>Ast_Ratio</th>\n",
       "      <th>Ast_Pct</th>\n",
       "      <th>DR_Ratio</th>\n",
       "      <th>DR_Pct</th>\n",
       "      <th>PF_Ratio</th>\n",
       "      <th>PF_Pct</th>\n",
       "      <th>NumOT</th>\n",
       "    </tr>\n",
       "  </thead>\n",
       "  <tbody>\n",
       "    <tr>\n",
       "      <th>0</th>\n",
       "      <td>3103</td>\n",
       "      <td>3143</td>\n",
       "      <td>2014</td>\n",
       "      <td>0.937046</td>\n",
       "      <td>0.484342</td>\n",
       "      <td>0.889416</td>\n",
       "      <td>0.447515</td>\n",
       "      <td>1.000711</td>\n",
       "      <td>0.495040</td>\n",
       "      <td>1.057927</td>\n",
       "      <td>0.523009</td>\n",
       "      <td>0</td>\n",
       "    </tr>\n",
       "    <tr>\n",
       "      <th>1</th>\n",
       "      <td>3103</td>\n",
       "      <td>3163</td>\n",
       "      <td>2014</td>\n",
       "      <td>1.114925</td>\n",
       "      <td>0.520949</td>\n",
       "      <td>1.340258</td>\n",
       "      <td>0.540817</td>\n",
       "      <td>1.058948</td>\n",
       "      <td>0.507087</td>\n",
       "      <td>0.895009</td>\n",
       "      <td>0.468967</td>\n",
       "      <td>0</td>\n",
       "    </tr>\n",
       "    <tr>\n",
       "      <th>2</th>\n",
       "      <td>3103</td>\n",
       "      <td>3169</td>\n",
       "      <td>2014</td>\n",
       "      <td>0.836696</td>\n",
       "      <td>0.455329</td>\n",
       "      <td>0.914889</td>\n",
       "      <td>0.448542</td>\n",
       "      <td>0.682533</td>\n",
       "      <td>0.393040</td>\n",
       "      <td>0.985273</td>\n",
       "      <td>0.494603</td>\n",
       "      <td>0</td>\n",
       "    </tr>\n",
       "    <tr>\n",
       "      <th>3</th>\n",
       "      <td>3103</td>\n",
       "      <td>3181</td>\n",
       "      <td>2014</td>\n",
       "      <td>0.985393</td>\n",
       "      <td>0.499427</td>\n",
       "      <td>1.061666</td>\n",
       "      <td>0.500333</td>\n",
       "      <td>1.044097</td>\n",
       "      <td>0.510465</td>\n",
       "      <td>0.958931</td>\n",
       "      <td>0.491312</td>\n",
       "      <td>0</td>\n",
       "    </tr>\n",
       "    <tr>\n",
       "      <th>4</th>\n",
       "      <td>3103</td>\n",
       "      <td>3199</td>\n",
       "      <td>2014</td>\n",
       "      <td>0.935506</td>\n",
       "      <td>0.483282</td>\n",
       "      <td>0.982900</td>\n",
       "      <td>0.473371</td>\n",
       "      <td>1.036946</td>\n",
       "      <td>0.503235</td>\n",
       "      <td>1.135509</td>\n",
       "      <td>0.531591</td>\n",
       "      <td>0</td>\n",
       "    </tr>\n",
       "  </tbody>\n",
       "</table>\n",
       "</div>"
      ],
      "text/plain": [
       "   TeamID1  TeamID2  Season  Score_Ratio  Score_Pct  Ast_Ratio   Ast_Pct  \\\n",
       "0     3103     3143    2014     0.937046   0.484342   0.889416  0.447515   \n",
       "1     3103     3163    2014     1.114925   0.520949   1.340258  0.540817   \n",
       "2     3103     3169    2014     0.836696   0.455329   0.914889  0.448542   \n",
       "3     3103     3181    2014     0.985393   0.499427   1.061666  0.500333   \n",
       "4     3103     3199    2014     0.935506   0.483282   0.982900  0.473371   \n",
       "\n",
       "   DR_Ratio    DR_Pct  PF_Ratio    PF_Pct  NumOT  \n",
       "0  1.000711  0.495040  1.057927  0.523009      0  \n",
       "1  1.058948  0.507087  0.895009  0.468967      0  \n",
       "2  0.682533  0.393040  0.985273  0.494603      0  \n",
       "3  1.044097  0.510465  0.958931  0.491312      0  \n",
       "4  1.036946  0.503235  1.135509  0.531591      0  "
      ]
     },
     "execution_count": 489,
     "metadata": {},
     "output_type": "execute_result"
    }
   ],
   "source": [
    "train_test_missing.head()"
   ]
  },
  {
   "cell_type": "code",
   "execution_count": 490,
   "metadata": {
    "collapsed": true
   },
   "outputs": [],
   "source": [
    "#We scale our data for our logistic regression, and make sure our categorical variables are properly processed.\n",
    "\n",
    "X_test = train_test_missing.loc[:, ['Season', 'NumOT', 'Score_Ratio', 'Score_Pct', 'Ast_Ratio', 'DR_Ratio', 'PF_Ratio', 'Ast_Pct', 'DR_Pct', 'PF_Pct']]"
   ]
  },
  {
   "cell_type": "code",
   "execution_count": 491,
   "metadata": {},
   "outputs": [
    {
     "data": {
      "text/html": [
       "<div>\n",
       "<style>\n",
       "    .dataframe thead tr:only-child th {\n",
       "        text-align: right;\n",
       "    }\n",
       "\n",
       "    .dataframe thead th {\n",
       "        text-align: left;\n",
       "    }\n",
       "\n",
       "    .dataframe tbody tr th {\n",
       "        vertical-align: top;\n",
       "    }\n",
       "</style>\n",
       "<table border=\"1\" class=\"dataframe\">\n",
       "  <thead>\n",
       "    <tr style=\"text-align: right;\">\n",
       "      <th></th>\n",
       "      <th>Season</th>\n",
       "      <th>NumOT</th>\n",
       "      <th>Score_Ratio</th>\n",
       "      <th>Score_Pct</th>\n",
       "      <th>Ast_Ratio</th>\n",
       "      <th>DR_Ratio</th>\n",
       "      <th>PF_Ratio</th>\n",
       "      <th>Ast_Pct</th>\n",
       "      <th>DR_Pct</th>\n",
       "      <th>PF_Pct</th>\n",
       "    </tr>\n",
       "  </thead>\n",
       "  <tbody>\n",
       "    <tr>\n",
       "      <th>0</th>\n",
       "      <td>2014</td>\n",
       "      <td>0</td>\n",
       "      <td>0.937046</td>\n",
       "      <td>0.484342</td>\n",
       "      <td>0.889416</td>\n",
       "      <td>1.000711</td>\n",
       "      <td>1.057927</td>\n",
       "      <td>0.447515</td>\n",
       "      <td>0.495040</td>\n",
       "      <td>0.523009</td>\n",
       "    </tr>\n",
       "    <tr>\n",
       "      <th>1</th>\n",
       "      <td>2014</td>\n",
       "      <td>0</td>\n",
       "      <td>1.114925</td>\n",
       "      <td>0.520949</td>\n",
       "      <td>1.340258</td>\n",
       "      <td>1.058948</td>\n",
       "      <td>0.895009</td>\n",
       "      <td>0.540817</td>\n",
       "      <td>0.507087</td>\n",
       "      <td>0.468967</td>\n",
       "    </tr>\n",
       "    <tr>\n",
       "      <th>2</th>\n",
       "      <td>2014</td>\n",
       "      <td>0</td>\n",
       "      <td>0.836696</td>\n",
       "      <td>0.455329</td>\n",
       "      <td>0.914889</td>\n",
       "      <td>0.682533</td>\n",
       "      <td>0.985273</td>\n",
       "      <td>0.448542</td>\n",
       "      <td>0.393040</td>\n",
       "      <td>0.494603</td>\n",
       "    </tr>\n",
       "    <tr>\n",
       "      <th>3</th>\n",
       "      <td>2014</td>\n",
       "      <td>0</td>\n",
       "      <td>0.985393</td>\n",
       "      <td>0.499427</td>\n",
       "      <td>1.061666</td>\n",
       "      <td>1.044097</td>\n",
       "      <td>0.958931</td>\n",
       "      <td>0.500333</td>\n",
       "      <td>0.510465</td>\n",
       "      <td>0.491312</td>\n",
       "    </tr>\n",
       "    <tr>\n",
       "      <th>4</th>\n",
       "      <td>2014</td>\n",
       "      <td>0</td>\n",
       "      <td>0.935506</td>\n",
       "      <td>0.483282</td>\n",
       "      <td>0.982900</td>\n",
       "      <td>1.036946</td>\n",
       "      <td>1.135509</td>\n",
       "      <td>0.473371</td>\n",
       "      <td>0.503235</td>\n",
       "      <td>0.531591</td>\n",
       "    </tr>\n",
       "  </tbody>\n",
       "</table>\n",
       "</div>"
      ],
      "text/plain": [
       "   Season  NumOT  Score_Ratio  Score_Pct  Ast_Ratio  DR_Ratio  PF_Ratio  \\\n",
       "0    2014      0     0.937046   0.484342   0.889416  1.000711  1.057927   \n",
       "1    2014      0     1.114925   0.520949   1.340258  1.058948  0.895009   \n",
       "2    2014      0     0.836696   0.455329   0.914889  0.682533  0.985273   \n",
       "3    2014      0     0.985393   0.499427   1.061666  1.044097  0.958931   \n",
       "4    2014      0     0.935506   0.483282   0.982900  1.036946  1.135509   \n",
       "\n",
       "    Ast_Pct    DR_Pct    PF_Pct  \n",
       "0  0.447515  0.495040  0.523009  \n",
       "1  0.540817  0.507087  0.468967  \n",
       "2  0.448542  0.393040  0.494603  \n",
       "3  0.500333  0.510465  0.491312  \n",
       "4  0.473371  0.503235  0.531591  "
      ]
     },
     "execution_count": 491,
     "metadata": {},
     "output_type": "execute_result"
    }
   ],
   "source": [
    "X_test.head()"
   ]
  },
  {
   "cell_type": "code",
   "execution_count": 492,
   "metadata": {
    "collapsed": true
   },
   "outputs": [],
   "source": [
    "n = X_train.shape[0]"
   ]
  },
  {
   "cell_type": "code",
   "execution_count": 493,
   "metadata": {
    "collapsed": true
   },
   "outputs": [],
   "source": [
    "train_test_merge = pd.concat( [X_train, X_test], axis = 0 ).reset_index(drop = True)"
   ]
  },
  {
   "cell_type": "code",
   "execution_count": 494,
   "metadata": {
    "collapsed": true
   },
   "outputs": [],
   "source": [
    "train_test_merge = pd.concat( [pd.get_dummies( train_test_merge['Season'].astype(object) ), \n",
    "            train_test_merge.drop('Season', axis = 1) ], axis = 1 )"
   ]
  },
  {
   "cell_type": "code",
   "execution_count": 495,
   "metadata": {
    "collapsed": true
   },
   "outputs": [],
   "source": [
    "train_test_merge = pd.concat( [pd.get_dummies( train_test_merge['NumOT'].astype(object) ), \n",
    "            train_test_merge.drop('NumOT', axis = 1) ], axis = 1 )\n",
    "\n",
    "X_train = train_test_merge.loc[:(n - 1), :].reset_index(drop = True)\n",
    "X_test = train_test_merge.loc[n:, :].reset_index(drop = True)"
   ]
  },
  {
   "cell_type": "code",
   "execution_count": 496,
   "metadata": {},
   "outputs": [
    {
     "data": {
      "text/plain": [
       "0              0\n",
       "1              0\n",
       "2              0\n",
       "3              0\n",
       "4              0\n",
       "2014           0\n",
       "2015           0\n",
       "2016           0\n",
       "2017           0\n",
       "2018           0\n",
       "Ast_Pct        0\n",
       "Ast_Ratio      0\n",
       "DR_Pct         0\n",
       "DR_Ratio       0\n",
       "PF_Pct         0\n",
       "PF_Ratio       0\n",
       "Score_Pct      0\n",
       "Score_Ratio    0\n",
       "dtype: int64"
      ]
     },
     "execution_count": 496,
     "metadata": {},
     "output_type": "execute_result"
    }
   ],
   "source": [
    "train_test_merge.isnull().sum()"
   ]
  },
  {
   "cell_type": "code",
   "execution_count": 497,
   "metadata": {
    "collapsed": true
   },
   "outputs": [],
   "source": [
    "x_max = X_train.max()\n",
    "x_min = X_train.min()\n",
    "\n",
    "X_train = ( X_train - x_min ) / ( x_max - x_min + 1e-14)\n",
    "X_test = ( X_test - x_min ) / ( x_max - x_min + 1e-14)"
   ]
  },
  {
   "cell_type": "code",
   "execution_count": 498,
   "metadata": {},
   "outputs": [
    {
     "name": "stdout",
     "output_type": "stream",
     "text": [
      "(1380, 18)\n",
      "     0    1    2    3    4  2014  2015  2016  2017  2018   Ast_Pct  Ast_Ratio  \\\n",
      "0  1.0  0.0  0.0  0.0  0.0   1.0   0.0   0.0   0.0   0.0  0.565777   0.114526   \n",
      "1  1.0  0.0  0.0  0.0  0.0   1.0   0.0   0.0   0.0   0.0  0.416327   0.066122   \n",
      "2  1.0  0.0  0.0  0.0  0.0   1.0   0.0   0.0   0.0   0.0  0.595918   0.127697   \n",
      "3  1.0  0.0  0.0  0.0  0.0   1.0   0.0   0.0   0.0   0.0  0.560653   0.112430   \n",
      "4  1.0  0.0  0.0  0.0  0.0   1.0   0.0   0.0   0.0   0.0  0.522449   0.097959   \n",
      "\n",
      "     DR_Pct  DR_Ratio    PF_Pct  PF_Ratio  Score_Pct  Score_Ratio  \n",
      "0  0.740524  0.436087  0.521062  0.249917   0.618894     0.369421  \n",
      "1  0.482878  0.201931  0.413239  0.177417   0.574964     0.327960  \n",
      "2  0.535398  0.237955  0.442943  0.195827   0.541489     0.298757  \n",
      "3  0.575221  0.268437  0.762301  0.495495   0.613417     0.364042  \n",
      "4  0.604078  0.292501  0.436374  0.191662   0.587111     0.339051  \n",
      "(1380,)\n",
      "0    1.0\n",
      "1    1.0\n",
      "2    1.0\n",
      "3    1.0\n",
      "4    1.0\n",
      "Name: Result, dtype: float64\n",
      "0.0    693\n",
      "1.0    687\n",
      "Name: Result, dtype: int64\n",
      "(7579, 18)\n",
      "     0    1    2    3    4  2014  2015  2016  2017  2018   Ast_Pct  Ast_Ratio  \\\n",
      "0  1.0  0.0  0.0  0.0  0.0   1.0   0.0   0.0   0.0   0.0  0.420162   0.074882   \n",
      "1  1.0  0.0  0.0  0.0  0.0   1.0   0.0   0.0   0.0   0.0  0.536694   0.119046   \n",
      "2  1.0  0.0  0.0  0.0  0.0   1.0   0.0   0.0   0.0   0.0  0.421444   0.077377   \n",
      "3  1.0  0.0  0.0  0.0  0.0   1.0   0.0   0.0   0.0   0.0  0.486131   0.091755   \n",
      "4  1.0  0.0  0.0  0.0  0.0   1.0   0.0   0.0   0.0   0.0  0.452456   0.084039   \n",
      "\n",
      "     DR_Pct  DR_Ratio    PF_Pct  PF_Ratio  Score_Pct  Score_Ratio  \n",
      "0  0.433260  0.177186  0.539026  0.250714   0.471098     0.242259  \n",
      "1  0.455648  0.193163  0.436785  0.195919   0.548708     0.316329  \n",
      "2  0.243703  0.089898  0.485284  0.226278   0.409589     0.200472  \n",
      "3  0.461926  0.189089  0.479058  0.217418   0.503080     0.262391  \n",
      "4  0.448490  0.187127  0.555263  0.276808   0.468850     0.241617  \n"
     ]
    }
   ],
   "source": [
    "print(X_train.shape)\n",
    "print(X_train.head())\n",
    "\n",
    "print(train_labels.shape)\n",
    "print(train_labels.head())\n",
    "print(train_labels.value_counts())\n",
    "\n",
    "print(X_test.shape)\n",
    "print(X_test.head())"
   ]
  },
  {
   "cell_type": "code",
   "execution_count": 499,
   "metadata": {},
   "outputs": [
    {
     "data": {
      "text/plain": [
       "LogisticRegressionCV(Cs=8, class_weight=None, cv=5, dual=False,\n",
       "           fit_intercept=True, intercept_scaling=1.0, max_iter=100,\n",
       "           multi_class='ovr', n_jobs=4, penalty='l2', random_state=None,\n",
       "           refit=True, scoring='neg_log_loss', solver='lbfgs', tol=0.0001,\n",
       "           verbose=0)"
      ]
     },
     "execution_count": 499,
     "metadata": {},
     "output_type": "execute_result"
    }
   ],
   "source": [
    "from sklearn.linear_model import LogisticRegressionCV\n",
    "\n",
    "log_clf = LogisticRegressionCV(cv = 5,Cs=8,n_jobs=4,scoring=\"neg_log_loss\")\n",
    "\n",
    "log_clf.fit( X_train, train_labels )"
   ]
  },
  {
   "cell_type": "code",
   "execution_count": 500,
   "metadata": {},
   "outputs": [
    {
     "name": "stdout",
     "output_type": "stream",
     "text": [
      "[[-0.69319232 -0.69384506 -0.69426906 -0.65223014 -0.5802668  -0.3883429\n",
      "  -0.18465013 -0.04041747]\n",
      " [-0.69377894 -0.70137892 -0.74050641 -0.67751376 -0.56304702 -0.42552432\n",
      "  -0.28420844 -0.22979473]\n",
      " [-0.69301696 -0.69152739 -0.66928477 -0.57173751 -0.42656562 -0.26914993\n",
      "  -0.18042533 -0.05072779]\n",
      " [-0.69217085 -0.68015817 -0.57593277 -0.36652923 -0.19334575 -0.10206284\n",
      "  -0.06793893 -0.07886935]\n",
      " [-0.69201616 -0.67810423 -0.55805588 -0.35199471 -0.21179919 -0.08065747\n",
      "  -0.03913599 -0.0389182 ]]\n"
     ]
    }
   ],
   "source": [
    "print(log_clf.scores_[1])"
   ]
  },
  {
   "cell_type": "code",
   "execution_count": 501,
   "metadata": {},
   "outputs": [
    {
     "data": {
      "image/png": "[encoded data removed]",
      "text/plain": [
       "<matplotlib.figure.Figure at 0x164ce8884e0>"
      ]
     },
     "metadata": {},
     "output_type": "display_data"
    }
   ],
   "source": [
    "import matplotlib.pyplot as plt\n",
    "plt.plot(log_clf.scores_[1])\n",
    "# plt.ylabel('some numbers')\n",
    "plt.show()"
   ]
  },
  {
   "cell_type": "code",
   "execution_count": 502,
   "metadata": {
    "collapsed": true
   },
   "outputs": [],
   "source": [
    "train_test_inner['Pred1'] = log_clf.predict_proba(X_train)[:,1]\n",
    "train_test_missing['Pred1'] = log_clf.predict_proba(X_test)[:,1]"
   ]
  },
  {
   "cell_type": "code",
   "execution_count": 503,
   "metadata": {
    "collapsed": true
   },
   "outputs": [],
   "source": [
    "sub = pd.merge(df_sample_sub, \n",
    "                         pd.concat( [train_test_missing.loc[:, ['Season', 'TeamID1', 'TeamID2', 'Pred1']],\n",
    "                                     train_test_inner.loc[:, ['Season', 'TeamID1', 'TeamID2', 'Pred1']] ],\n",
    "                                   axis = 0).reset_index(drop = True),\n",
    "                  on = ['Season', 'TeamID1', 'TeamID2'], how = 'outer')"
   ]
  },
  {
   "cell_type": "code",
   "execution_count": 504,
   "metadata": {},
   "outputs": [
    {
     "name": "stdout",
     "output_type": "stream",
     "text": [
      "(10423, 6)\n",
      "               ID  Pred  Season  TeamID1  TeamID2  Pred1\n",
      "0  2014_3103_3107   0.5    2014     3103     3107    NaN\n",
      "1  2014_3103_3113   0.5    2014     3103     3113    NaN\n",
      "2  2014_3103_3119   0.5    2014     3103     3119    NaN\n",
      "3  2014_3103_3124   0.5    2014     3103     3124    NaN\n",
      "4  2014_3103_3140   0.5    2014     3103     3140    NaN\n"
     ]
    }
   ],
   "source": [
    "print(sub.shape)\n",
    "print(sub.head())"
   ]
  },
  {
   "cell_type": "code",
   "execution_count": 505,
   "metadata": {
    "collapsed": true
   },
   "outputs": [],
   "source": [
    "#We get the 'average' probability of success for each team\n",
    "\n",
    "team1_probs = sub.groupby('TeamID1')['Pred1'].apply(lambda x : (x ** -1.0).mean() ** -1.0 ).fillna(0.5).to_dict()\n",
    "team2_probs = sub.groupby('TeamID2')['Pred1'].apply(lambda x : (x ** -1.0).mean() ** -1.0 ).fillna(0.5).to_dict()\n",
    "#Any missing value for the prediciton will be imputed with the product of the probabilities calculated above. We assume these are independent events.\n",
    "\n",
    "sub['Pred'] = sub[['TeamID1', 'TeamID2','Pred1']]\\\n",
    ".apply(lambda x : team1_probs.get(x[0]) * ( 1 - team2_probs.get(x[1]) ) if np.isnan(x[2]) else x[2], \n",
    "       axis = 1)"
   ]
  },
  {
   "cell_type": "code",
   "execution_count": 506,
   "metadata": {},
   "outputs": [
    {
     "name": "stdout",
     "output_type": "stream",
     "text": [
      "(2016, 2)\n"
     ]
    }
   ],
   "source": [
    "sub.ID.value_counts()\n",
    "sub=sub.groupby('ID', as_index=False).agg({\"Pred\": \"mean\"})\n",
    "sub.ID.value_counts()\n",
    "sub2018=sub.loc[sub['ID'].isin(df_sample_sub2.ID)]\n",
    "print(sub2018.shape)"
   ]
  },
  {
   "cell_type": "code",
   "execution_count": 507,
   "metadata": {},
   "outputs": [
    {
     "data": {
      "text/html": [
       "<div>\n",
       "<style>\n",
       "    .dataframe thead tr:only-child th {\n",
       "        text-align: right;\n",
       "    }\n",
       "\n",
       "    .dataframe thead th {\n",
       "        text-align: left;\n",
       "    }\n",
       "\n",
       "    .dataframe tbody tr th {\n",
       "        vertical-align: top;\n",
       "    }\n",
       "</style>\n",
       "<table border=\"1\" class=\"dataframe\">\n",
       "  <thead>\n",
       "    <tr style=\"text-align: right;\">\n",
       "      <th></th>\n",
       "      <th>ID</th>\n",
       "      <th>Pred</th>\n",
       "    </tr>\n",
       "  </thead>\n",
       "  <tbody>\n",
       "    <tr>\n",
       "      <th>8064</th>\n",
       "      <td>2018_3110_3113</td>\n",
       "      <td>9.348854e-43</td>\n",
       "    </tr>\n",
       "    <tr>\n",
       "      <th>8065</th>\n",
       "      <td>2018_3110_3114</td>\n",
       "      <td>9.348854e-43</td>\n",
       "    </tr>\n",
       "    <tr>\n",
       "      <th>8066</th>\n",
       "      <td>2018_3110_3124</td>\n",
       "      <td>9.348854e-43</td>\n",
       "    </tr>\n",
       "    <tr>\n",
       "      <th>8067</th>\n",
       "      <td>2018_3110_3125</td>\n",
       "      <td>9.348854e-43</td>\n",
       "    </tr>\n",
       "    <tr>\n",
       "      <th>8068</th>\n",
       "      <td>2018_3110_3129</td>\n",
       "      <td>9.348854e-43</td>\n",
       "    </tr>\n",
       "  </tbody>\n",
       "</table>\n",
       "</div>"
      ],
      "text/plain": [
       "                  ID          Pred\n",
       "8064  2018_3110_3113  9.348854e-43\n",
       "8065  2018_3110_3114  9.348854e-43\n",
       "8066  2018_3110_3124  9.348854e-43\n",
       "8067  2018_3110_3125  9.348854e-43\n",
       "8068  2018_3110_3129  9.348854e-43"
      ]
     },
     "execution_count": 507,
     "metadata": {},
     "output_type": "execute_result"
    }
   ],
   "source": [
    "sub2018.head()"
   ]
  },
  {
   "cell_type": "code",
   "execution_count": 508,
   "metadata": {},
   "outputs": [
    {
     "data": {
      "text/plain": [
       "0.36850240102023485"
      ]
     },
     "execution_count": 508,
     "metadata": {},
     "output_type": "execute_result"
    }
   ],
   "source": [
    "sub2018.Pred.mean()"
   ]
  },
  {
   "cell_type": "code",
   "execution_count": 509,
   "metadata": {},
   "outputs": [
    {
     "data": {
      "text/plain": [
       "count    2.016000e+03\n",
       "mean     3.685024e-01\n",
       "std      4.511544e-01\n",
       "min      2.331184e-50\n",
       "25%      6.869387e-12\n",
       "50%      5.945273e-04\n",
       "75%      9.984556e-01\n",
       "max      1.000000e+00\n",
       "Name: Pred, dtype: float64"
      ]
     },
     "execution_count": 509,
     "metadata": {},
     "output_type": "execute_result"
    }
   ],
   "source": [
    "sub2018.Pred.describe()"
   ]
  },
  {
   "cell_type": "code",
   "execution_count": 510,
   "metadata": {
    "scrolled": true
   },
   "outputs": [
    {
     "data": {
      "text/plain": [
       "<matplotlib.axes._subplots.AxesSubplot at 0x164cdd3c6d8>"
      ]
     },
     "execution_count": 510,
     "metadata": {},
     "output_type": "execute_result"
    },
    {
     "data": {
      "image/png": "[encoded data removed]",
      "text/plain": [
       "<matplotlib.figure.Figure at 0x164cddd8710>"
      ]
     },
     "metadata": {},
     "output_type": "display_data"
    }
   ],
   "source": [
    "sub2018['Pred'].plot.hist()"
   ]
  },
  {
   "cell_type": "code",
   "execution_count": 511,
   "metadata": {
    "collapsed": true
   },
   "outputs": [],
   "source": [
    "#sub2018[['ID', 'Pred']].to_csv('sub_2018_all_only18.csv', index = False)"
   ]
  },
  {
   "cell_type": "code",
   "execution_count": 512,
   "metadata": {
    "collapsed": true
   },
   "outputs": [],
   "source": [
    "import lightgbm as lgb\n",
    "d_train = lgb.Dataset(X_train, label=train_labels)\n",
    "\n",
    "params = {}\n",
    "params['learning_rate'] = 0.003\n",
    "params['boosting_type'] = 'gbdt'\n",
    "params['objective'] = 'binary'\n",
    "params['metric'] = 'binary_logloss'\n",
    "params['sub_feature'] = 0.5\n",
    "params['num_leaves'] = 10\n",
    "params['min_data'] = 50\n",
    "params['max_depth'] = 10\n",
    "clf = lgb.train(params, d_train, 100)"
   ]
  },
  {
   "cell_type": "code",
   "execution_count": 513,
   "metadata": {
    "collapsed": true
   },
   "outputs": [],
   "source": [
    "train_test_inner['Pred1'] = clf.predict(X_train)\n",
    "train_test_missing['Pred1'] = clf.predict(X_test)\n",
    "\n",
    "sub2 = pd.merge(df_sample_sub, pd.concat( [train_test_missing.loc[:, ['Season', 'TeamID1', 'TeamID2', 'Pred1']],\n",
    "                                     train_test_inner.loc[:, ['Season', 'TeamID1', 'TeamID2', 'Pred1']] ],\n",
    "                                   axis = 0).reset_index(drop = True),\n",
    "                  on = ['Season', 'TeamID1', 'TeamID2'], how = 'outer')\n",
    "\n",
    "#We get the 'average' probability of success for each team\n",
    "\n",
    "team1_probs = sub2.groupby('TeamID1')['Pred1'].apply(lambda x : (x ** -1.0).mean() ** -1.0 ).fillna(0.5).to_dict()\n",
    "team2_probs = sub2.groupby('TeamID2')['Pred1'].apply(lambda x : (x ** -1.0).mean() ** -1.0 ).fillna(0.5).to_dict()\n",
    "#Any missing value for the prediciton will be imputed with the product of the probabilities calculated above. We assume these are independent events.\n",
    "\n",
    "sub['Pred'] = sub2[['TeamID1', 'TeamID2','Pred1']]\\\n",
    ".apply(lambda x : team1_probs.get(x[0]) * ( 1 - team2_probs.get(x[1]) ) if np.isnan(x[2]) else x[2], \n",
    "       axis = 1)"
   ]
  },
  {
   "cell_type": "code",
   "execution_count": 514,
   "metadata": {},
   "outputs": [
    {
     "name": "stdout",
     "output_type": "stream",
     "text": [
      "(2016, 2)\n"
     ]
    }
   ],
   "source": [
    "sub.ID.value_counts()\n",
    "sub=sub.groupby('ID', as_index=False).agg({\"Pred\": \"mean\"})\n",
    "sub.ID.value_counts()\n",
    "sub2018_lgb=sub.loc[sub['ID'].isin(df_sample_sub2.ID)]\n",
    "print(sub2018.shape)"
   ]
  },
  {
   "cell_type": "code",
   "execution_count": 515,
   "metadata": {},
   "outputs": [
    {
     "data": {
      "text/html": [
       "<div>\n",
       "<style>\n",
       "    .dataframe thead tr:only-child th {\n",
       "        text-align: right;\n",
       "    }\n",
       "\n",
       "    .dataframe thead th {\n",
       "        text-align: left;\n",
       "    }\n",
       "\n",
       "    .dataframe tbody tr th {\n",
       "        vertical-align: top;\n",
       "    }\n",
       "</style>\n",
       "<table border=\"1\" class=\"dataframe\">\n",
       "  <thead>\n",
       "    <tr style=\"text-align: right;\">\n",
       "      <th></th>\n",
       "      <th>ID</th>\n",
       "      <th>Pred</th>\n",
       "    </tr>\n",
       "  </thead>\n",
       "  <tbody>\n",
       "    <tr>\n",
       "      <th>8064</th>\n",
       "      <td>2018_3110_3113</td>\n",
       "      <td>0.377013</td>\n",
       "    </tr>\n",
       "    <tr>\n",
       "      <th>8065</th>\n",
       "      <td>2018_3110_3114</td>\n",
       "      <td>0.420593</td>\n",
       "    </tr>\n",
       "    <tr>\n",
       "      <th>8066</th>\n",
       "      <td>2018_3110_3124</td>\n",
       "      <td>0.396654</td>\n",
       "    </tr>\n",
       "    <tr>\n",
       "      <th>8067</th>\n",
       "      <td>2018_3110_3125</td>\n",
       "      <td>0.396582</td>\n",
       "    </tr>\n",
       "    <tr>\n",
       "      <th>8068</th>\n",
       "      <td>2018_3110_3129</td>\n",
       "      <td>0.386071</td>\n",
       "    </tr>\n",
       "  </tbody>\n",
       "</table>\n",
       "</div>"
      ],
      "text/plain": [
       "                  ID      Pred\n",
       "8064  2018_3110_3113  0.377013\n",
       "8065  2018_3110_3114  0.420593\n",
       "8066  2018_3110_3124  0.396654\n",
       "8067  2018_3110_3125  0.396582\n",
       "8068  2018_3110_3129  0.386071"
      ]
     },
     "execution_count": 515,
     "metadata": {},
     "output_type": "execute_result"
    }
   ],
   "source": [
    "sub2018_lgb.head()"
   ]
  },
  {
   "cell_type": "code",
   "execution_count": 516,
   "metadata": {},
   "outputs": [
    {
     "data": {
      "text/plain": [
       "0.4484592580025936"
      ]
     },
     "execution_count": 516,
     "metadata": {},
     "output_type": "execute_result"
    }
   ],
   "source": [
    "sub2018_lgb.Pred.mean()"
   ]
  },
  {
   "cell_type": "code",
   "execution_count": 517,
   "metadata": {
    "collapsed": true
   },
   "outputs": [],
   "source": [
    "#sub2018_lgb[['ID', 'Pred']].to_csv('sub_2018_lgb.csv', index = False)"
   ]
  },
  {
   "cell_type": "code",
   "execution_count": 518,
   "metadata": {},
   "outputs": [
    {
     "data": {
      "text/plain": [
       "<matplotlib.axes._subplots.AxesSubplot at 0x164cee4fa58>"
      ]
     },
     "execution_count": 518,
     "metadata": {},
     "output_type": "execute_result"
    },
    {
     "data": {
      "image/png": "[encoded data removed]",
      "text/plain": [
       "<matplotlib.figure.Figure at 0x164cddd8d68>"
      ]
     },
     "metadata": {},
     "output_type": "display_data"
    }
   ],
   "source": [
    "sub2018_lgb['Pred'].plot.hist()"
   ]
  },
  {
   "cell_type": "code",
   "execution_count": 519,
   "metadata": {},
   "outputs": [
    {
     "data": {
      "text/plain": [
       "count    2016.000000\n",
       "mean        0.448459\n",
       "std         0.125140\n",
       "min         0.176626\n",
       "25%         0.376549\n",
       "50%         0.397124\n",
       "75%         0.585225\n",
       "max         0.627403\n",
       "Name: Pred, dtype: float64"
      ]
     },
     "execution_count": 519,
     "metadata": {},
     "output_type": "execute_result"
    }
   ],
   "source": [
    "sub2018_lgb.Pred.describe()"
   ]
  },
  {
   "cell_type": "code",
   "execution_count": 520,
   "metadata": {
    "collapsed": true
   },
   "outputs": [],
   "source": [
    "params = {}\n",
    "params['learning_rate'] = 0.003\n",
    "params['boosting_type'] = 'gbdt'\n",
    "params['objective'] = 'binary'\n",
    "params['metric'] = 'binary_logloss'\n",
    "params['sub_feature'] = 0.5\n",
    "params['num_leaves'] = 50\n",
    "params['min_data'] = 200\n",
    "params['max_depth'] = 50\n",
    "clf = lgb.train(params, d_train, 100)"
   ]
  },
  {
   "cell_type": "code",
   "execution_count": 521,
   "metadata": {
    "collapsed": true
   },
   "outputs": [],
   "source": [
    "train_test_inner['Pred1'] = clf.predict(X_train)\n",
    "train_test_missing['Pred1'] = clf.predict(X_test)\n",
    "\n",
    "sub = pd.merge(df_sample_sub, pd.concat( [train_test_missing.loc[:, ['Season', 'TeamID1', 'TeamID2', 'Pred1']],\n",
    "                                     train_test_inner.loc[:, ['Season', 'TeamID1', 'TeamID2', 'Pred1']] ],\n",
    "                                   axis = 0).reset_index(drop = True),\n",
    "                  on = ['Season', 'TeamID1', 'TeamID2'], how = 'outer')\n",
    "\n",
    "#We get the 'average' probability of success for each team\n",
    "\n",
    "team1_probs = sub.groupby('TeamID1')['Pred1'].apply(lambda x : (x ** -1.0).mean() ** -1.0 ).fillna(0.5).to_dict()\n",
    "team2_probs = sub.groupby('TeamID2')['Pred1'].apply(lambda x : (x ** -1.0).mean() ** -1.0 ).fillna(0.5).to_dict()\n",
    "#Any missing value for the prediciton will be imputed with the product of the probabilities calculated above. We assume these are independent events.\n",
    "\n",
    "sub['Pred'] = sub[['TeamID1', 'TeamID2','Pred1']]\\\n",
    ".apply(lambda x : team1_probs.get(x[0]) * ( 1 - team2_probs.get(x[1]) ) if np.isnan(x[2]) else x[2], \n",
    "       axis = 1)"
   ]
  },
  {
   "cell_type": "code",
   "execution_count": 522,
   "metadata": {},
   "outputs": [
    {
     "name": "stdout",
     "output_type": "stream",
     "text": [
      "(2016, 2)\n"
     ]
    }
   ],
   "source": [
    "sub.ID.value_counts()\n",
    "sub=sub.groupby('ID', as_index=False).agg({\"Pred\": \"mean\"})\n",
    "sub.ID.value_counts()\n",
    "sub2018_lgb3=sub.loc[sub['ID'].isin(df_sample_sub2.ID)]\n",
    "print(sub2018.shape)"
   ]
  },
  {
   "cell_type": "code",
   "execution_count": 523,
   "metadata": {},
   "outputs": [
    {
     "data": {
      "text/plain": [
       "0.4508362721958463"
      ]
     },
     "execution_count": 523,
     "metadata": {},
     "output_type": "execute_result"
    }
   ],
   "source": [
    "sub2018_lgb3.Pred.mean()"
   ]
  },
  {
   "cell_type": "code",
   "execution_count": 524,
   "metadata": {},
   "outputs": [
    {
     "data": {
      "text/plain": [
       "<matplotlib.axes._subplots.AxesSubplot at 0x164cee32748>"
      ]
     },
     "execution_count": 524,
     "metadata": {},
     "output_type": "execute_result"
    },
    {
     "data": {
      "image/png": "[encoded data removed]",
      "text/plain": [
       "<matplotlib.figure.Figure at 0x164cee6a048>"
      ]
     },
     "metadata": {},
     "output_type": "display_data"
    }
   ],
   "source": [
    "sub2018_lgb3['Pred'].plot.hist()"
   ]
  },
  {
   "cell_type": "code",
   "execution_count": 526,
   "metadata": {
    "collapsed": true
   },
   "outputs": [],
   "source": [
    "sub2018_lgb[['ID', 'Pred']].to_csv('sub_2018_lgb3.csv', index = False)"
   ]
  },
  {
   "cell_type": "code",
   "execution_count": 528,
   "metadata": {},
   "outputs": [
    {
     "name": "stdout",
     "output_type": "stream",
     "text": [
      "Collecting binarytree\n",
      "  Downloading binarytree-3.0.1.tar.gz\n",
      "Building wheels for collected packages: binarytree\n",
      "  Running setup.py bdist_wheel for binarytree: started\n",
      "  Running setup.py bdist_wheel for binarytree: finished with status 'done'\n",
      "  Stored in directory: C:\\Users\\MissFlave\\AppData\\Local\\pip\\Cache\\wheels\\6f\\af\\aa\\27c4aa57282254c29bf429bd6a54ef30b70a41fd1e11a00539\n",
      "Successfully built binarytree\n",
      "Installing collected packages: binarytree\n",
      "Successfully installed binarytree-3.0.1\n",
      "Collecting bracketeer\n",
      "  Downloading bracketeer-0.1.7.tar.gz\n",
      "Requirement already satisfied: pandas in c:\\users\\missflave\\anaconda\\lib\\site-packages (from bracketeer)\n",
      "Requirement already satisfied: binarytree in c:\\users\\missflave\\anaconda\\lib\\site-packages (from bracketeer)\n",
      "Requirement already satisfied: matplotlib in c:\\users\\missflave\\anaconda\\lib\\site-packages (from bracketeer)\n",
      "Requirement already satisfied: Pillow in c:\\users\\missflave\\anaconda\\lib\\site-packages (from bracketeer)\n",
      "Requirement already satisfied: python-dateutil>=2 in c:\\users\\missflave\\anaconda\\lib\\site-packages (from pandas->bracketeer)\n",
      "Requirement already satisfied: pytz>=2011k in c:\\users\\missflave\\anaconda\\lib\\site-packages (from pandas->bracketeer)\n",
      "Requirement already satisfied: numpy>=1.7.0 in c:\\users\\missflave\\anaconda\\lib\\site-packages (from pandas->bracketeer)\n",
      "Requirement already satisfied: six>=1.10 in c:\\users\\missflave\\anaconda\\lib\\site-packages (from matplotlib->bracketeer)\n",
      "Requirement already satisfied: cycler>=0.10 in c:\\users\\missflave\\anaconda\\lib\\site-packages (from matplotlib->bracketeer)\n",
      "Requirement already satisfied: pyparsing!=2.0.4,!=2.1.2,!=2.1.6,>=2.0.1 in c:\\users\\missflave\\anaconda\\lib\\site-packages (from matplotlib->bracketeer)\n",
      "Requirement already satisfied: olefile in c:\\users\\missflave\\anaconda\\lib\\site-packages (from Pillow->bracketeer)\n",
      "Building wheels for collected packages: bracketeer\n",
      "  Running setup.py bdist_wheel for bracketeer: started\n",
      "  Running setup.py bdist_wheel for bracketeer: finished with status 'done'\n",
      "  Stored in directory: C:\\Users\\MissFlave\\AppData\\Local\\pip\\Cache\\wheels\\b3\\83\\ad\\71c4245864d3b61f2f93df4620912261d76148d5eeeae526e3\n",
      "Successfully built bracketeer\n",
      "Installing collected packages: bracketeer\n",
      "Successfully installed bracketeer-0.1.7\n"
     ]
    }
   ],
   "source": [
    "!pip install binarytree\n",
    "!pip install bracketeer"
   ]
  },
  {
   "cell_type": "code",
   "execution_count": 536,
   "metadata": {
    "scrolled": true
   },
   "outputs": [
    {
     "ename": "KeyError",
     "evalue": "'season'",
     "output_type": "error",
     "traceback": [
      "\u001b[1;31m---------------------------------------------------------------------------\u001b[0m",
      "\u001b[1;31mKeyError\u001b[0m                                  Traceback (most recent call last)",
      "\u001b[1;32m~\\Anaconda\\lib\\site-packages\\pandas\\core\\indexes\\base.py\u001b[0m in \u001b[0;36mget_loc\u001b[1;34m(self, key, method, tolerance)\u001b[0m\n\u001b[0;32m   2441\u001b[0m             \u001b[1;32mtry\u001b[0m\u001b[1;33m:\u001b[0m\u001b[1;33m\u001b[0m\u001b[0m\n\u001b[1;32m-> 2442\u001b[1;33m                 \u001b[1;32mreturn\u001b[0m \u001b[0mself\u001b[0m\u001b[1;33m.\u001b[0m\u001b[0m_engine\u001b[0m\u001b[1;33m.\u001b[0m\u001b[0mget_loc\u001b[0m\u001b[1;33m(\u001b[0m\u001b[0mkey\u001b[0m\u001b[1;33m)\u001b[0m\u001b[1;33m\u001b[0m\u001b[0m\n\u001b[0m\u001b[0;32m   2443\u001b[0m             \u001b[1;32mexcept\u001b[0m \u001b[0mKeyError\u001b[0m\u001b[1;33m:\u001b[0m\u001b[1;33m\u001b[0m\u001b[0m\n",
      "\u001b[1;32mpandas\\_libs\\index.pyx\u001b[0m in \u001b[0;36mpandas._libs.index.IndexEngine.get_loc\u001b[1;34m()\u001b[0m\n",
      "\u001b[1;32mpandas\\_libs\\index.pyx\u001b[0m in \u001b[0;36mpandas._libs.index.IndexEngine.get_loc\u001b[1;34m()\u001b[0m\n",
      "\u001b[1;32mpandas\\_libs\\hashtable_class_helper.pxi\u001b[0m in \u001b[0;36mpandas._libs.hashtable.PyObjectHashTable.get_item\u001b[1;34m()\u001b[0m\n",
      "\u001b[1;32mpandas\\_libs\\hashtable_class_helper.pxi\u001b[0m in \u001b[0;36mpandas._libs.hashtable.PyObjectHashTable.get_item\u001b[1;34m()\u001b[0m\n",
      "\u001b[1;31mKeyError\u001b[0m: 'season'",
      "\nDuring handling of the above exception, another exception occurred:\n",
      "\u001b[1;31mKeyError\u001b[0m                                  Traceback (most recent call last)",
      "\u001b[1;32m<ipython-input-536-e27f02f0fd24>\u001b[0m in \u001b[0;36m<module>\u001b[1;34m()\u001b[0m\n\u001b[0;32m      5\u001b[0m         \u001b[0mseedsPath\u001b[0m\u001b[1;33m=\u001b[0m\u001b[1;34m'./WStage2DataFiles/WNCAATourneySeeds.csv'\u001b[0m\u001b[1;33m,\u001b[0m\u001b[1;33m\u001b[0m\u001b[0m\n\u001b[0;32m      6\u001b[0m         \u001b[0msubmissionPath\u001b[0m\u001b[1;33m=\u001b[0m\u001b[1;34m'sub_2018_lgb3.csv'\u001b[0m\u001b[1;33m,\u001b[0m\u001b[1;33m\u001b[0m\u001b[0m\n\u001b[1;32m----> 7\u001b[1;33m         \u001b[0mslotsPath\u001b[0m\u001b[1;33m=\u001b[0m\u001b[1;34m'./WStage2DataFiles/WNCAATourneySlots.csv'\u001b[0m\u001b[1;33m,\u001b[0m\u001b[1;33m\u001b[0m\u001b[0m\n\u001b[0m\u001b[0;32m      8\u001b[0m )\n\u001b[0;32m      9\u001b[0m \u001b[1;33m\u001b[0m\u001b[0m\n",
      "\u001b[1;32m~\\Anaconda\\lib\\site-packages\\bracketeer\\__init__.py\u001b[0m in \u001b[0;36mbuild_bracket\u001b[1;34m(outputPath, teamsPath, seedsPath, slotsPath, submissionPath, year)\u001b[0m\n\u001b[0;32m     78\u001b[0m \u001b[1;33m\u001b[0m\u001b[0m\n\u001b[0;32m     79\u001b[0m     \u001b[1;31m# Create bracket tree from slot data.  Create seed to slot mapping as well.\u001b[0m\u001b[1;33m\u001b[0m\u001b[1;33m\u001b[0m\u001b[0m\n\u001b[1;32m---> 80\u001b[1;33m     \u001b[0ms\u001b[0m \u001b[1;33m=\u001b[0m \u001b[0mslots_df\u001b[0m\u001b[1;33m[\u001b[0m\u001b[0mslots_df\u001b[0m\u001b[1;33m[\u001b[0m\u001b[1;34m'season'\u001b[0m\u001b[1;33m]\u001b[0m \u001b[1;33m==\u001b[0m \u001b[0myear\u001b[0m\u001b[1;33m]\u001b[0m\u001b[1;33m\u001b[0m\u001b[0m\n\u001b[0m\u001b[0;32m     81\u001b[0m     \u001b[0mseed_slot_map\u001b[0m \u001b[1;33m=\u001b[0m \u001b[1;33m{\u001b[0m\u001b[1;36m0\u001b[0m\u001b[1;33m:\u001b[0m \u001b[1;34m'R6CH'\u001b[0m\u001b[1;33m}\u001b[0m\u001b[1;33m\u001b[0m\u001b[0m\n\u001b[0;32m     82\u001b[0m     \u001b[0mbkt\u001b[0m \u001b[1;33m=\u001b[0m \u001b[0mextNode\u001b[0m\u001b[1;33m(\u001b[0m\u001b[1;36m0\u001b[0m\u001b[1;33m)\u001b[0m\u001b[1;33m\u001b[0m\u001b[0m\n",
      "\u001b[1;32m~\\Anaconda\\lib\\site-packages\\pandas\\core\\frame.py\u001b[0m in \u001b[0;36m__getitem__\u001b[1;34m(self, key)\u001b[0m\n\u001b[0;32m   1962\u001b[0m             \u001b[1;32mreturn\u001b[0m \u001b[0mself\u001b[0m\u001b[1;33m.\u001b[0m\u001b[0m_getitem_multilevel\u001b[0m\u001b[1;33m(\u001b[0m\u001b[0mkey\u001b[0m\u001b[1;33m)\u001b[0m\u001b[1;33m\u001b[0m\u001b[0m\n\u001b[0;32m   1963\u001b[0m         \u001b[1;32melse\u001b[0m\u001b[1;33m:\u001b[0m\u001b[1;33m\u001b[0m\u001b[0m\n\u001b[1;32m-> 1964\u001b[1;33m             \u001b[1;32mreturn\u001b[0m \u001b[0mself\u001b[0m\u001b[1;33m.\u001b[0m\u001b[0m_getitem_column\u001b[0m\u001b[1;33m(\u001b[0m\u001b[0mkey\u001b[0m\u001b[1;33m)\u001b[0m\u001b[1;33m\u001b[0m\u001b[0m\n\u001b[0m\u001b[0;32m   1965\u001b[0m \u001b[1;33m\u001b[0m\u001b[0m\n\u001b[0;32m   1966\u001b[0m     \u001b[1;32mdef\u001b[0m \u001b[0m_getitem_column\u001b[0m\u001b[1;33m(\u001b[0m\u001b[0mself\u001b[0m\u001b[1;33m,\u001b[0m \u001b[0mkey\u001b[0m\u001b[1;33m)\u001b[0m\u001b[1;33m:\u001b[0m\u001b[1;33m\u001b[0m\u001b[0m\n",
      "\u001b[1;32m~\\Anaconda\\lib\\site-packages\\pandas\\core\\frame.py\u001b[0m in \u001b[0;36m_getitem_column\u001b[1;34m(self, key)\u001b[0m\n\u001b[0;32m   1969\u001b[0m         \u001b[1;31m# get column\u001b[0m\u001b[1;33m\u001b[0m\u001b[1;33m\u001b[0m\u001b[0m\n\u001b[0;32m   1970\u001b[0m         \u001b[1;32mif\u001b[0m \u001b[0mself\u001b[0m\u001b[1;33m.\u001b[0m\u001b[0mcolumns\u001b[0m\u001b[1;33m.\u001b[0m\u001b[0mis_unique\u001b[0m\u001b[1;33m:\u001b[0m\u001b[1;33m\u001b[0m\u001b[0m\n\u001b[1;32m-> 1971\u001b[1;33m             \u001b[1;32mreturn\u001b[0m \u001b[0mself\u001b[0m\u001b[1;33m.\u001b[0m\u001b[0m_get_item_cache\u001b[0m\u001b[1;33m(\u001b[0m\u001b[0mkey\u001b[0m\u001b[1;33m)\u001b[0m\u001b[1;33m\u001b[0m\u001b[0m\n\u001b[0m\u001b[0;32m   1972\u001b[0m \u001b[1;33m\u001b[0m\u001b[0m\n\u001b[0;32m   1973\u001b[0m         \u001b[1;31m# duplicate columns & possible reduce dimensionality\u001b[0m\u001b[1;33m\u001b[0m\u001b[1;33m\u001b[0m\u001b[0m\n",
      "\u001b[1;32m~\\Anaconda\\lib\\site-packages\\pandas\\core\\generic.py\u001b[0m in \u001b[0;36m_get_item_cache\u001b[1;34m(self, item)\u001b[0m\n\u001b[0;32m   1643\u001b[0m         \u001b[0mres\u001b[0m \u001b[1;33m=\u001b[0m \u001b[0mcache\u001b[0m\u001b[1;33m.\u001b[0m\u001b[0mget\u001b[0m\u001b[1;33m(\u001b[0m\u001b[0mitem\u001b[0m\u001b[1;33m)\u001b[0m\u001b[1;33m\u001b[0m\u001b[0m\n\u001b[0;32m   1644\u001b[0m         \u001b[1;32mif\u001b[0m \u001b[0mres\u001b[0m \u001b[1;32mis\u001b[0m \u001b[1;32mNone\u001b[0m\u001b[1;33m:\u001b[0m\u001b[1;33m\u001b[0m\u001b[0m\n\u001b[1;32m-> 1645\u001b[1;33m             \u001b[0mvalues\u001b[0m \u001b[1;33m=\u001b[0m \u001b[0mself\u001b[0m\u001b[1;33m.\u001b[0m\u001b[0m_data\u001b[0m\u001b[1;33m.\u001b[0m\u001b[0mget\u001b[0m\u001b[1;33m(\u001b[0m\u001b[0mitem\u001b[0m\u001b[1;33m)\u001b[0m\u001b[1;33m\u001b[0m\u001b[0m\n\u001b[0m\u001b[0;32m   1646\u001b[0m             \u001b[0mres\u001b[0m \u001b[1;33m=\u001b[0m \u001b[0mself\u001b[0m\u001b[1;33m.\u001b[0m\u001b[0m_box_item_values\u001b[0m\u001b[1;33m(\u001b[0m\u001b[0mitem\u001b[0m\u001b[1;33m,\u001b[0m \u001b[0mvalues\u001b[0m\u001b[1;33m)\u001b[0m\u001b[1;33m\u001b[0m\u001b[0m\n\u001b[0;32m   1647\u001b[0m             \u001b[0mcache\u001b[0m\u001b[1;33m[\u001b[0m\u001b[0mitem\u001b[0m\u001b[1;33m]\u001b[0m \u001b[1;33m=\u001b[0m \u001b[0mres\u001b[0m\u001b[1;33m\u001b[0m\u001b[0m\n",
      "\u001b[1;32m~\\Anaconda\\lib\\site-packages\\pandas\\core\\internals.py\u001b[0m in \u001b[0;36mget\u001b[1;34m(self, item, fastpath)\u001b[0m\n\u001b[0;32m   3588\u001b[0m \u001b[1;33m\u001b[0m\u001b[0m\n\u001b[0;32m   3589\u001b[0m             \u001b[1;32mif\u001b[0m \u001b[1;32mnot\u001b[0m \u001b[0misnull\u001b[0m\u001b[1;33m(\u001b[0m\u001b[0mitem\u001b[0m\u001b[1;33m)\u001b[0m\u001b[1;33m:\u001b[0m\u001b[1;33m\u001b[0m\u001b[0m\n\u001b[1;32m-> 3590\u001b[1;33m                 \u001b[0mloc\u001b[0m \u001b[1;33m=\u001b[0m \u001b[0mself\u001b[0m\u001b[1;33m.\u001b[0m\u001b[0mitems\u001b[0m\u001b[1;33m.\u001b[0m\u001b[0mget_loc\u001b[0m\u001b[1;33m(\u001b[0m\u001b[0mitem\u001b[0m\u001b[1;33m)\u001b[0m\u001b[1;33m\u001b[0m\u001b[0m\n\u001b[0m\u001b[0;32m   3591\u001b[0m             \u001b[1;32melse\u001b[0m\u001b[1;33m:\u001b[0m\u001b[1;33m\u001b[0m\u001b[0m\n\u001b[0;32m   3592\u001b[0m                 \u001b[0mindexer\u001b[0m \u001b[1;33m=\u001b[0m \u001b[0mnp\u001b[0m\u001b[1;33m.\u001b[0m\u001b[0marange\u001b[0m\u001b[1;33m(\u001b[0m\u001b[0mlen\u001b[0m\u001b[1;33m(\u001b[0m\u001b[0mself\u001b[0m\u001b[1;33m.\u001b[0m\u001b[0mitems\u001b[0m\u001b[1;33m)\u001b[0m\u001b[1;33m)\u001b[0m\u001b[1;33m[\u001b[0m\u001b[0misnull\u001b[0m\u001b[1;33m(\u001b[0m\u001b[0mself\u001b[0m\u001b[1;33m.\u001b[0m\u001b[0mitems\u001b[0m\u001b[1;33m)\u001b[0m\u001b[1;33m]\u001b[0m\u001b[1;33m\u001b[0m\u001b[0m\n",
      "\u001b[1;32m~\\Anaconda\\lib\\site-packages\\pandas\\core\\indexes\\base.py\u001b[0m in \u001b[0;36mget_loc\u001b[1;34m(self, key, method, tolerance)\u001b[0m\n\u001b[0;32m   2442\u001b[0m                 \u001b[1;32mreturn\u001b[0m \u001b[0mself\u001b[0m\u001b[1;33m.\u001b[0m\u001b[0m_engine\u001b[0m\u001b[1;33m.\u001b[0m\u001b[0mget_loc\u001b[0m\u001b[1;33m(\u001b[0m\u001b[0mkey\u001b[0m\u001b[1;33m)\u001b[0m\u001b[1;33m\u001b[0m\u001b[0m\n\u001b[0;32m   2443\u001b[0m             \u001b[1;32mexcept\u001b[0m \u001b[0mKeyError\u001b[0m\u001b[1;33m:\u001b[0m\u001b[1;33m\u001b[0m\u001b[0m\n\u001b[1;32m-> 2444\u001b[1;33m                 \u001b[1;32mreturn\u001b[0m \u001b[0mself\u001b[0m\u001b[1;33m.\u001b[0m\u001b[0m_engine\u001b[0m\u001b[1;33m.\u001b[0m\u001b[0mget_loc\u001b[0m\u001b[1;33m(\u001b[0m\u001b[0mself\u001b[0m\u001b[1;33m.\u001b[0m\u001b[0m_maybe_cast_indexer\u001b[0m\u001b[1;33m(\u001b[0m\u001b[0mkey\u001b[0m\u001b[1;33m)\u001b[0m\u001b[1;33m)\u001b[0m\u001b[1;33m\u001b[0m\u001b[0m\n\u001b[0m\u001b[0;32m   2445\u001b[0m \u001b[1;33m\u001b[0m\u001b[0m\n\u001b[0;32m   2446\u001b[0m         \u001b[0mindexer\u001b[0m \u001b[1;33m=\u001b[0m \u001b[0mself\u001b[0m\u001b[1;33m.\u001b[0m\u001b[0mget_indexer\u001b[0m\u001b[1;33m(\u001b[0m\u001b[1;33m[\u001b[0m\u001b[0mkey\u001b[0m\u001b[1;33m]\u001b[0m\u001b[1;33m,\u001b[0m \u001b[0mmethod\u001b[0m\u001b[1;33m=\u001b[0m\u001b[0mmethod\u001b[0m\u001b[1;33m,\u001b[0m \u001b[0mtolerance\u001b[0m\u001b[1;33m=\u001b[0m\u001b[0mtolerance\u001b[0m\u001b[1;33m)\u001b[0m\u001b[1;33m\u001b[0m\u001b[0m\n",
      "\u001b[1;32mpandas\\_libs\\index.pyx\u001b[0m in \u001b[0;36mpandas._libs.index.IndexEngine.get_loc\u001b[1;34m()\u001b[0m\n",
      "\u001b[1;32mpandas\\_libs\\index.pyx\u001b[0m in \u001b[0;36mpandas._libs.index.IndexEngine.get_loc\u001b[1;34m()\u001b[0m\n",
      "\u001b[1;32mpandas\\_libs\\hashtable_class_helper.pxi\u001b[0m in \u001b[0;36mpandas._libs.hashtable.PyObjectHashTable.get_item\u001b[1;34m()\u001b[0m\n",
      "\u001b[1;32mpandas\\_libs\\hashtable_class_helper.pxi\u001b[0m in \u001b[0;36mpandas._libs.hashtable.PyObjectHashTable.get_item\u001b[1;34m()\u001b[0m\n",
      "\u001b[1;31mKeyError\u001b[0m: 'season'"
     ]
    }
   ],
   "source": [
    "from bracketeer import build_bracket\n",
    "b = build_bracket(\n",
    "        outputPath='output.png',\n",
    "        teamsPath='./WStage2DataFiles/WTeams.csv',\n",
    "        seedsPath='./WStage2DataFiles/WNCAATourneySeeds.csv',\n",
    "        submissionPath='sub_2018_lgb3.csv',\n",
    "        slotsPath='./WStage2DataFiles/WNCAATourneySlots.csv',\n",
    ")\n",
    "\n",
    "from IPython.display import Image\n",
    "Image(\"output.png\")"
   ]
  },
  {
   "cell_type": "code",
   "execution_count": null,
   "metadata": {
    "collapsed": true
   },
   "outputs": [],
   "source": []
  }
 ],
 "metadata": {
  "kernelspec": {
   "display_name": "Python 3",
   "language": "python",
   "name": "python3"
  },
  "language_info": {
   "codemirror_mode": {
    "name": "ipython",
    "version": 3
   },
   "file_extension": ".py",
   "mimetype": "text/x-python",
   "name": "python",
   "nbconvert_exporter": "python",
   "pygments_lexer": "ipython3",
   "version": "3.6.3"
  }
 },
 "nbformat": 4,
 "nbformat_minor": 2
}
